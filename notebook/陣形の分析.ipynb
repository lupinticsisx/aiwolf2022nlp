{
 "cells": [
  {
   "cell_type": "markdown",
   "metadata": {},
   "source": [
    "# 初日COの集計"
   ]
  },
  {
   "cell_type": "markdown",
   "metadata": {},
   "source": [
    "* 初日の作戦の参考用  \n",
    "* 特にオチはない  "
   ]
  },
  {
   "cell_type": "code",
   "execution_count": 62,
   "metadata": {
    "collapsed": true
   },
   "outputs": [],
   "source": [
    "from __future__ import print_function, division \n",
    "\n",
    "import os \n",
    "import sys\n",
    "import csv\n",
    "\n",
    "import numpy as np\n",
    "import pandas as pd\n",
    "import sklearn.linear_model\n",
    "import math"
   ]
  },
  {
   "cell_type": "markdown",
   "metadata": {},
   "source": [
    "### AIWOLFPYのログ読み込み関数を使う"
   ]
  },
  {
   "cell_type": "code",
   "execution_count": 2,
   "metadata": {
    "collapsed": true
   },
   "outputs": [],
   "source": [
    "# add sys.path for aiwolfpy\n",
    "sys.path.append(\"../AIWolfPy\")"
   ]
  },
  {
   "cell_type": "code",
   "execution_count": 3,
   "metadata": {
    "collapsed": true
   },
   "outputs": [],
   "source": [
    "import aiwolfpy\n",
    "import aiwolfpy.cash"
   ]
  },
  {
   "cell_type": "code",
   "execution_count": 41,
   "metadata": {
    "collapsed": false
   },
   "outputs": [],
   "source": [
    "def count_co(log_path):\n",
    "    log_df = aiwolfpy.read_log(log_path)\n",
    "    rolemap = {}\n",
    "    for i in range(15):\n",
    "        rolemap[i+1] = log_df[\"text\"][i].split()[2]\n",
    "    jinkei = {}\n",
    "    jinkei_simple = {}\n",
    "    for i in range(log_df.shape[0]):\n",
    "        if log_df[\"day\"][i] == 1 and log_df[\"type\"][i] == \"talk\":\n",
    "            if log_df[\"text\"][i].split()[0] == \"COMINGOUT\":\n",
    "                k = log_df[\"text\"][i].split()[2] + \"_\" + rolemap[log_df[\"agent\"][i]]\n",
    "                k_simple = log_df[\"text\"][i].split()[2]\n",
    "                if k in jinkei.keys():\n",
    "                    jinkei[k] += 1\n",
    "                else:\n",
    "                    jinkei[k] = 1\n",
    "                if k_simple in jinkei_simple.keys():\n",
    "                    jinkei_simple[k_simple] += 1\n",
    "                else:\n",
    "                    jinkei_simple[k_simple] = 1\n",
    "        elif log_df[\"day\"][i] > 1:\n",
    "            break\n",
    "    return str(sorted(jinkei_simple.items(), key=lambda x:x[0])), str(sorted(jinkei.items(), key=lambda x:x[0]))"
   ]
  },
  {
   "cell_type": "markdown",
   "metadata": {},
   "source": [
    "とにかくCO発言をカウントする。重複は排除しない、いきなりDIVINEDというケースはカウントしない。"
   ]
  },
  {
   "cell_type": "markdown",
   "metadata": {},
   "source": [
    "##### 勝ちチーム判定"
   ]
  },
  {
   "cell_type": "code",
   "execution_count": 69,
   "metadata": {
    "collapsed": true
   },
   "outputs": [],
   "source": [
    "def find_winner(log_path):\n",
    "    df = pd.read_csv(log_path, header=None)\n",
    "    return df.ix[df.shape[0]-1, 4]"
   ]
  },
  {
   "cell_type": "code",
   "execution_count": 70,
   "metadata": {
    "collapsed": false
   },
   "outputs": [
    {
     "data": {
      "text/plain": [
       "'WEREWOLF'"
      ]
     },
     "execution_count": 70,
     "metadata": {},
     "output_type": "execute_result"
    }
   ],
   "source": [
    "find_winner(log_path)"
   ]
  },
  {
   "cell_type": "markdown",
   "metadata": {},
   "source": [
    "適当なログでの実行サンプル"
   ]
  },
  {
   "cell_type": "code",
   "execution_count": 42,
   "metadata": {
    "collapsed": false
   },
   "outputs": [
    {
     "data": {
      "text/plain": [
       "(\"[('MEDIUM', 2), ('SEER', 2)]\",\n",
       " \"[('MEDIUM_MEDIUM', 1), ('MEDIUM_WEREWOLF', 1), ('SEER_POSSESSED', 1), ('SEER_SEER', 1)]\")"
      ]
     },
     "execution_count": 42,
     "metadata": {},
     "output_type": "execute_result"
    }
   ],
   "source": [
    "log_path = \"../log/gat2017log15/000/000.log\"\n",
    "count_co(log_path)"
   ]
  },
  {
   "cell_type": "markdown",
   "metadata": {},
   "source": [
    "↑ 2-2, 正体は占いが真狂、霊媒が真狼"
   ]
  },
  {
   "cell_type": "markdown",
   "metadata": {},
   "source": [
    "### 予備予選のログでやってみる"
   ]
  },
  {
   "cell_type": "code",
   "execution_count": 73,
   "metadata": {
    "collapsed": false
   },
   "outputs": [
    {
     "name": "stdout",
     "output_type": "stream",
     "text": [
      "i = 1 done\n",
      "i = 11 done\n",
      "i = 21 done\n",
      "i = 31 done\n",
      "i = 36 done\n"
     ]
    }
   ],
   "source": [
    "# collect logs\n",
    "# note that this data has bias that cash(rev117) is in game\n",
    "# cash(rev117) do not comingout when he is werewolf, bodyguard or villager.\n",
    "# cash(rev117) comingout seer when he is seer or possessed, medium when medium\n",
    "\n",
    "\n",
    "# 36*100 games\n",
    "jinkei_dict = {}\n",
    "for i in range(1, 37):\n",
    "    for j in range(100):\n",
    "        log_path = \"../log/yobiyosen_2017/rev117/game-\" + str(i) + \"/\" + \"{0:03d}\".format(j) + \".log\"\n",
    "        k, l = count_co(log_path)\n",
    "        if k not in jinkei_dict.keys():\n",
    "            jinkei_dict[k] = {} \n",
    "        if l not in jinkei_dict[k].keys():\n",
    "            jinkei_dict[k][l] = {\"N\":0, \"WEREWOLF\":0, \"VILLAGER\":0}\n",
    "        jinkei_dict[k][l][\"N\"] += 1\n",
    "        jinkei_dict[k][l][find_winner(log_path)] += 1\n",
    "    if i % 10 == 1 or i == 36:\n",
    "        print(\"i = \" + str(i) + \" done\")"
   ]
  },
  {
   "cell_type": "code",
   "execution_count": 74,
   "metadata": {
    "collapsed": false
   },
   "outputs": [
    {
     "data": {
      "text/plain": [
       "{\"[('BODYGUARD', 1), ('MEDIUM', 1), ('SEER', 1)]\": {\"[('BODYGUARD_BODYGUARD', 1), ('MEDIUM_MEDIUM', 1), ('SEER_POSSESSED', 1)]\": {'N': 4,\n",
       "   'VILLAGER': 1,\n",
       "   'WEREWOLF': 3},\n",
       "  \"[('BODYGUARD_BODYGUARD', 1), ('MEDIUM_WEREWOLF', 1), ('SEER_SEER', 1)]\": {'N': 1,\n",
       "   'VILLAGER': 0,\n",
       "   'WEREWOLF': 1}},\n",
       " \"[('BODYGUARD', 1), ('MEDIUM', 1), ('SEER', 2)]\": {\"[('BODYGUARD_BODYGUARD', 1), ('MEDIUM_MEDIUM', 1), ('SEER_POSSESSED', 1), ('SEER_SEER', 1)]\": {'N': 2,\n",
       "   'VILLAGER': 1,\n",
       "   'WEREWOLF': 1},\n",
       "  \"[('BODYGUARD_BODYGUARD', 1), ('MEDIUM_MEDIUM', 1), ('SEER_SEER', 1), ('SEER_WEREWOLF', 1)]\": {'N': 2,\n",
       "   'VILLAGER': 2,\n",
       "   'WEREWOLF': 0},\n",
       "  \"[('BODYGUARD_BODYGUARD', 1), ('MEDIUM_WEREWOLF', 1), ('SEER_POSSESSED', 1), ('SEER_WEREWOLF', 1)]\": {'N': 1,\n",
       "   'VILLAGER': 0,\n",
       "   'WEREWOLF': 1},\n",
       "  \"[('BODYGUARD_BODYGUARD', 1), ('MEDIUM_WEREWOLF', 1), ('SEER_SEER', 1), ('SEER_WEREWOLF', 1)]\": {'N': 1,\n",
       "   'VILLAGER': 1,\n",
       "   'WEREWOLF': 0}},\n",
       " \"[('BODYGUARD', 1), ('MEDIUM', 1), ('SEER', 3)]\": {\"[('BODYGUARD_BODYGUARD', 1), ('MEDIUM_MEDIUM', 1), ('SEER_POSSESSED', 1), ('SEER_SEER', 1), ('SEER_WEREWOLF', 1)]\": {'N': 3,\n",
       "   'VILLAGER': 0,\n",
       "   'WEREWOLF': 3},\n",
       "  \"[('BODYGUARD_BODYGUARD', 1), ('MEDIUM_WEREWOLF', 1), ('SEER_POSSESSED', 1), ('SEER_SEER', 1), ('SEER_WEREWOLF', 1)]\": {'N': 2,\n",
       "   'VILLAGER': 0,\n",
       "   'WEREWOLF': 2}},\n",
       " \"[('BODYGUARD', 1), ('MEDIUM', 1), ('SEER', 5), ('VILLAGER', 8)]\": {\"[('BODYGUARD_WEREWOLF', 1), ('MEDIUM_WEREWOLF', 1), ('SEER_POSSESSED', 1), ('SEER_SEER', 1), ('SEER_VILLAGER', 2), ('SEER_WEREWOLF', 1), ('VILLAGER_VILLAGER', 8)]\": {'N': 1,\n",
       "   'VILLAGER': 0,\n",
       "   'WEREWOLF': 1}},\n",
       " \"[('BODYGUARD', 1), ('MEDIUM', 1)]\": {\"[('BODYGUARD_BODYGUARD', 1), ('MEDIUM_MEDIUM', 1)]\": {'N': 1,\n",
       "   'VILLAGER': 0,\n",
       "   'WEREWOLF': 1}},\n",
       " \"[('BODYGUARD', 1), ('MEDIUM', 2), ('SEER', 1)]\": {\"[('BODYGUARD_BODYGUARD', 1), ('MEDIUM_MEDIUM', 1), ('MEDIUM_WEREWOLF', 1), ('SEER_WEREWOLF', 1)]\": {'N': 1,\n",
       "   'VILLAGER': 1,\n",
       "   'WEREWOLF': 0}},\n",
       " \"[('BODYGUARD', 1), ('MEDIUM', 2), ('SEER', 2)]\": {\"[('BODYGUARD_BODYGUARD', 1), ('MEDIUM_MEDIUM', 1), ('MEDIUM_WEREWOLF', 1), ('SEER_POSSESSED', 1), ('SEER_SEER', 1)]\": {'N': 6,\n",
       "   'VILLAGER': 4,\n",
       "   'WEREWOLF': 2},\n",
       "  \"[('BODYGUARD_BODYGUARD', 1), ('MEDIUM_MEDIUM', 1), ('MEDIUM_WEREWOLF', 1), ('SEER_SEER', 1), ('SEER_WEREWOLF', 1)]\": {'N': 2,\n",
       "   'VILLAGER': 1,\n",
       "   'WEREWOLF': 1}},\n",
       " \"[('BODYGUARD', 1), ('MEDIUM', 2), ('SEER', 3)]\": {\"[('BODYGUARD_BODYGUARD', 1), ('MEDIUM_MEDIUM', 1), ('MEDIUM_WEREWOLF', 1), ('SEER_POSSESSED', 1), ('SEER_SEER', 1), ('SEER_WEREWOLF', 1)]\": {'N': 4,\n",
       "   'VILLAGER': 3,\n",
       "   'WEREWOLF': 1}},\n",
       " \"[('BODYGUARD', 1), ('MEDIUM', 2), ('SEER', 5), ('VILLAGER', 8)]\": {\"[('BODYGUARD_BODYGUARD', 1), ('MEDIUM_MEDIUM', 1), ('MEDIUM_WEREWOLF', 1), ('SEER_POSSESSED', 1), ('SEER_SEER', 1), ('SEER_VILLAGER', 2), ('SEER_WEREWOLF', 1), ('VILLAGER_VILLAGER', 8)]\": {'N': 1,\n",
       "   'VILLAGER': 1,\n",
       "   'WEREWOLF': 0}},\n",
       " \"[('BODYGUARD', 1), ('SEER', 1)]\": {\"[('BODYGUARD_BODYGUARD', 1), ('SEER_POSSESSED', 1)]\": {'N': 2,\n",
       "   'VILLAGER': 0,\n",
       "   'WEREWOLF': 2},\n",
       "  \"[('BODYGUARD_BODYGUARD', 1), ('SEER_SEER', 1)]\": {'N': 3,\n",
       "   'VILLAGER': 1,\n",
       "   'WEREWOLF': 2},\n",
       "  \"[('BODYGUARD_BODYGUARD', 1), ('SEER_WEREWOLF', 1)]\": {'N': 1,\n",
       "   'VILLAGER': 1,\n",
       "   'WEREWOLF': 0}},\n",
       " \"[('BODYGUARD', 1), ('SEER', 2)]\": {\"[('BODYGUARD_BODYGUARD', 1), ('SEER_POSSESSED', 1), ('SEER_SEER', 1)]\": {'N': 7,\n",
       "   'VILLAGER': 3,\n",
       "   'WEREWOLF': 4},\n",
       "  \"[('BODYGUARD_BODYGUARD', 1), ('SEER_POSSESSED', 1), ('SEER_WEREWOLF', 1)]\": {'N': 5,\n",
       "   'VILLAGER': 2,\n",
       "   'WEREWOLF': 3},\n",
       "  \"[('BODYGUARD_BODYGUARD', 1), ('SEER_SEER', 1), ('SEER_WEREWOLF', 1)]\": {'N': 2,\n",
       "   'VILLAGER': 1,\n",
       "   'WEREWOLF': 1}},\n",
       " \"[('BODYGUARD', 1), ('SEER', 3)]\": {\"[('BODYGUARD_BODYGUARD', 1), ('SEER_POSSESSED', 1), ('SEER_SEER', 1), ('SEER_WEREWOLF', 1)]\": {'N': 15,\n",
       "   'VILLAGER': 10,\n",
       "   'WEREWOLF': 5}},\n",
       " \"[('BODYGUARD', 1), ('SEER', 5), ('VILLAGER', 8)]\": {\"[('BODYGUARD_BODYGUARD', 1), ('SEER_POSSESSED', 1), ('SEER_SEER', 1), ('SEER_VILLAGER', 2), ('SEER_WEREWOLF', 1), ('VILLAGER_VILLAGER', 8)]\": {'N': 1,\n",
       "   'VILLAGER': 0,\n",
       "   'WEREWOLF': 1}},\n",
       " \"[('BODYGUARD', 1)]\": {\"[('BODYGUARD_BODYGUARD', 1)]\": {'N': 1,\n",
       "   'VILLAGER': 0,\n",
       "   'WEREWOLF': 1}},\n",
       " \"[('MEDIUM', 1), ('SEER', 1)]\": {\"[('MEDIUM_MEDIUM', 1), ('SEER_POSSESSED', 1)]\": {'N': 39,\n",
       "   'VILLAGER': 6,\n",
       "   'WEREWOLF': 33},\n",
       "  \"[('MEDIUM_MEDIUM', 1), ('SEER_SEER', 1)]\": {'N': 39,\n",
       "   'VILLAGER': 18,\n",
       "   'WEREWOLF': 21},\n",
       "  \"[('MEDIUM_MEDIUM', 1), ('SEER_WEREWOLF', 1)]\": {'N': 8,\n",
       "   'VILLAGER': 1,\n",
       "   'WEREWOLF': 7},\n",
       "  \"[('MEDIUM_WEREWOLF', 1), ('SEER_POSSESSED', 1)]\": {'N': 10,\n",
       "   'VILLAGER': 0,\n",
       "   'WEREWOLF': 10},\n",
       "  \"[('MEDIUM_WEREWOLF', 1), ('SEER_SEER', 1)]\": {'N': 4,\n",
       "   'VILLAGER': 2,\n",
       "   'WEREWOLF': 2},\n",
       "  \"[('MEDIUM_WEREWOLF', 1), ('SEER_WEREWOLF', 1)]\": {'N': 2,\n",
       "   'VILLAGER': 0,\n",
       "   'WEREWOLF': 2}},\n",
       " \"[('MEDIUM', 1), ('SEER', 2)]\": {\"[('MEDIUM_MEDIUM', 1), ('SEER_POSSESSED', 1), ('SEER_SEER', 1)]\": {'N': 247,\n",
       "   'VILLAGER': 97,\n",
       "   'WEREWOLF': 150},\n",
       "  \"[('MEDIUM_MEDIUM', 1), ('SEER_POSSESSED', 1), ('SEER_WEREWOLF', 1)]\": {'N': 73,\n",
       "   'VILLAGER': 16,\n",
       "   'WEREWOLF': 57},\n",
       "  \"[('MEDIUM_MEDIUM', 1), ('SEER_SEER', 1), ('SEER_WEREWOLF', 1)]\": {'N': 63,\n",
       "   'VILLAGER': 26,\n",
       "   'WEREWOLF': 37},\n",
       "  \"[('MEDIUM_WEREWOLF', 1), ('SEER_POSSESSED', 1), ('SEER_SEER', 1)]\": {'N': 39,\n",
       "   'VILLAGER': 9,\n",
       "   'WEREWOLF': 30},\n",
       "  \"[('MEDIUM_WEREWOLF', 1), ('SEER_POSSESSED', 1), ('SEER_WEREWOLF', 1)]\": {'N': 14,\n",
       "   'VILLAGER': 2,\n",
       "   'WEREWOLF': 12},\n",
       "  \"[('MEDIUM_WEREWOLF', 1), ('SEER_SEER', 1), ('SEER_WEREWOLF', 1)]\": {'N': 12,\n",
       "   'VILLAGER': 6,\n",
       "   'WEREWOLF': 6}},\n",
       " \"[('MEDIUM', 1), ('SEER', 3), ('VILLAGER', 8)]\": {\"[('MEDIUM_MEDIUM', 1), ('SEER_SEER', 1), ('SEER_VILLAGER', 2), ('VILLAGER_VILLAGER', 8)]\": {'N': 2,\n",
       "   'VILLAGER': 2,\n",
       "   'WEREWOLF': 0}},\n",
       " \"[('MEDIUM', 1), ('SEER', 3)]\": {\"[('MEDIUM_MEDIUM', 1), ('SEER_POSSESSED', 1), ('SEER_SEER', 1), ('SEER_WEREWOLF', 1)]\": {'N': 316,\n",
       "   'VILLAGER': 127,\n",
       "   'WEREWOLF': 189},\n",
       "  \"[('MEDIUM_MEDIUM', 1), ('SEER_POSSESSED', 1), ('SEER_WEREWOLF', 2)]\": {'N': 4,\n",
       "   'VILLAGER': 1,\n",
       "   'WEREWOLF': 3},\n",
       "  \"[('MEDIUM_MEDIUM', 1), ('SEER_SEER', 1), ('SEER_WEREWOLF', 2)]\": {'N': 1,\n",
       "   'VILLAGER': 1,\n",
       "   'WEREWOLF': 0},\n",
       "  \"[('MEDIUM_WEREWOLF', 1), ('SEER_POSSESSED', 1), ('SEER_SEER', 1), ('SEER_WEREWOLF', 1)]\": {'N': 90,\n",
       "   'VILLAGER': 35,\n",
       "   'WEREWOLF': 55},\n",
       "  \"[('MEDIUM_WEREWOLF', 1), ('SEER_POSSESSED', 1), ('SEER_WEREWOLF', 2)]\": {'N': 1,\n",
       "   'VILLAGER': 0,\n",
       "   'WEREWOLF': 1},\n",
       "  \"[('MEDIUM_WEREWOLF', 1), ('SEER_SEER', 1), ('SEER_WEREWOLF', 2)]\": {'N': 1,\n",
       "   'VILLAGER': 0,\n",
       "   'WEREWOLF': 1}},\n",
       " \"[('MEDIUM', 1), ('SEER', 4), ('VILLAGER', 8)]\": {\"[('MEDIUM_MEDIUM', 1), ('SEER_POSSESSED', 1), ('SEER_SEER', 1), ('SEER_VILLAGER', 2), ('VILLAGER_VILLAGER', 8)]\": {'N': 2,\n",
       "   'VILLAGER': 0,\n",
       "   'WEREWOLF': 2},\n",
       "  \"[('MEDIUM_MEDIUM', 1), ('SEER_POSSESSED', 1), ('SEER_VILLAGER', 2), ('SEER_WEREWOLF', 1), ('VILLAGER_VILLAGER', 8)]\": {'N': 1,\n",
       "   'VILLAGER': 0,\n",
       "   'WEREWOLF': 1},\n",
       "  \"[('MEDIUM_MEDIUM', 1), ('SEER_SEER', 1), ('SEER_VILLAGER', 2), ('SEER_WEREWOLF', 1), ('VILLAGER_VILLAGER', 8)]\": {'N': 1,\n",
       "   'VILLAGER': 0,\n",
       "   'WEREWOLF': 1},\n",
       "  \"[('MEDIUM_WEREWOLF', 1), ('SEER_POSSESSED', 1), ('SEER_SEER', 1), ('SEER_VILLAGER', 2), ('VILLAGER_VILLAGER', 8)]\": {'N': 1,\n",
       "   'VILLAGER': 0,\n",
       "   'WEREWOLF': 1},\n",
       "  \"[('MEDIUM_WEREWOLF', 1), ('SEER_POSSESSED', 1), ('SEER_VILLAGER', 2), ('SEER_WEREWOLF', 1), ('VILLAGER_VILLAGER', 8)]\": {'N': 1,\n",
       "   'VILLAGER': 1,\n",
       "   'WEREWOLF': 0}},\n",
       " \"[('MEDIUM', 1), ('SEER', 4)]\": {\"[('MEDIUM_MEDIUM', 1), ('SEER_POSSESSED', 1), ('SEER_SEER', 1), ('SEER_WEREWOLF', 2)]\": {'N': 17,\n",
       "   'VILLAGER': 8,\n",
       "   'WEREWOLF': 9},\n",
       "  \"[('MEDIUM_WEREWOLF', 1), ('SEER_POSSESSED', 1), ('SEER_SEER', 1), ('SEER_WEREWOLF', 2)]\": {'N': 2,\n",
       "   'VILLAGER': 0,\n",
       "   'WEREWOLF': 2}},\n",
       " \"[('MEDIUM', 1), ('SEER', 5), ('VILLAGER', 8)]\": {\"[('MEDIUM_MEDIUM', 1), ('SEER_POSSESSED', 1), ('SEER_SEER', 1), ('SEER_VILLAGER', 2), ('SEER_WEREWOLF', 1), ('VILLAGER_VILLAGER', 8)]\": {'N': 5,\n",
       "   'VILLAGER': 1,\n",
       "   'WEREWOLF': 4},\n",
       "  \"[('MEDIUM_WEREWOLF', 1), ('SEER_POSSESSED', 1), ('SEER_SEER', 1), ('SEER_VILLAGER', 2), ('SEER_WEREWOLF', 1), ('VILLAGER_VILLAGER', 8)]\": {'N': 2,\n",
       "   'VILLAGER': 1,\n",
       "   'WEREWOLF': 1}},\n",
       " \"[('MEDIUM', 1)]\": {\"[('MEDIUM_MEDIUM', 1)]\": {'N': 34,\n",
       "   'VILLAGER': 6,\n",
       "   'WEREWOLF': 28},\n",
       "  \"[('MEDIUM_WEREWOLF', 1)]\": {'N': 1, 'VILLAGER': 0, 'WEREWOLF': 1}},\n",
       " \"[('MEDIUM', 2), ('SEER', 1)]\": {\"[('MEDIUM_MEDIUM', 1), ('MEDIUM_WEREWOLF', 1), ('SEER_POSSESSED', 1)]\": {'N': 57,\n",
       "   'VILLAGER': 11,\n",
       "   'WEREWOLF': 46},\n",
       "  \"[('MEDIUM_MEDIUM', 1), ('MEDIUM_WEREWOLF', 1), ('SEER_SEER', 1)]\": {'N': 47,\n",
       "   'VILLAGER': 28,\n",
       "   'WEREWOLF': 19},\n",
       "  \"[('MEDIUM_MEDIUM', 1), ('MEDIUM_WEREWOLF', 1), ('SEER_WEREWOLF', 1)]\": {'N': 7,\n",
       "   'VILLAGER': 3,\n",
       "   'WEREWOLF': 4}},\n",
       " \"[('MEDIUM', 2), ('SEER', 2)]\": {\"[('MEDIUM_MEDIUM', 1), ('MEDIUM_WEREWOLF', 1), ('SEER_POSSESSED', 1), ('SEER_SEER', 1)]\": {'N': 212,\n",
       "   'VILLAGER': 86,\n",
       "   'WEREWOLF': 126},\n",
       "  \"[('MEDIUM_MEDIUM', 1), ('MEDIUM_WEREWOLF', 1), ('SEER_POSSESSED', 1), ('SEER_WEREWOLF', 1)]\": {'N': 71,\n",
       "   'VILLAGER': 21,\n",
       "   'WEREWOLF': 50},\n",
       "  \"[('MEDIUM_MEDIUM', 1), ('MEDIUM_WEREWOLF', 1), ('SEER_SEER', 1), ('SEER_WEREWOLF', 1)]\": {'N': 98,\n",
       "   'VILLAGER': 54,\n",
       "   'WEREWOLF': 44}},\n",
       " \"[('MEDIUM', 2), ('SEER', 3), ('VILLAGER', 8)]\": {\"[('MEDIUM_MEDIUM', 1), ('MEDIUM_WEREWOLF', 1), ('SEER_POSSESSED', 1), ('SEER_VILLAGER', 2), ('VILLAGER_VILLAGER', 8)]\": {'N': 3,\n",
       "   'VILLAGER': 0,\n",
       "   'WEREWOLF': 3},\n",
       "  \"[('MEDIUM_MEDIUM', 1), ('MEDIUM_WEREWOLF', 1), ('SEER_SEER', 1), ('SEER_VILLAGER', 2), ('VILLAGER_VILLAGER', 8)]\": {'N': 2,\n",
       "   'VILLAGER': 1,\n",
       "   'WEREWOLF': 1}},\n",
       " \"[('MEDIUM', 2), ('SEER', 3)]\": {\"[('MEDIUM_MEDIUM', 1), ('MEDIUM_WEREWOLF', 1), ('SEER_POSSESSED', 1), ('SEER_SEER', 1), ('SEER_WEREWOLF', 1)]\": {'N': 328,\n",
       "   'VILLAGER': 175,\n",
       "   'WEREWOLF': 153},\n",
       "  \"[('MEDIUM_MEDIUM', 1), ('MEDIUM_WEREWOLF', 1), ('SEER_POSSESSED', 1), ('SEER_WEREWOLF', 2)]\": {'N': 3,\n",
       "   'VILLAGER': 1,\n",
       "   'WEREWOLF': 2},\n",
       "  \"[('MEDIUM_MEDIUM', 1), ('MEDIUM_WEREWOLF', 1), ('SEER_SEER', 1), ('SEER_WEREWOLF', 2)]\": {'N': 5,\n",
       "   'VILLAGER': 3,\n",
       "   'WEREWOLF': 2}},\n",
       " \"[('MEDIUM', 2), ('SEER', 4), ('VILLAGER', 8)]\": {\"[('MEDIUM_MEDIUM', 1), ('MEDIUM_WEREWOLF', 1), ('SEER_POSSESSED', 1), ('SEER_SEER', 1), ('SEER_VILLAGER', 2), ('VILLAGER_VILLAGER', 8)]\": {'N': 11,\n",
       "   'VILLAGER': 3,\n",
       "   'WEREWOLF': 8},\n",
       "  \"[('MEDIUM_MEDIUM', 1), ('MEDIUM_WEREWOLF', 1), ('SEER_POSSESSED', 1), ('SEER_VILLAGER', 2), ('SEER_WEREWOLF', 1), ('VILLAGER_VILLAGER', 8)]\": {'N': 3,\n",
       "   'VILLAGER': 1,\n",
       "   'WEREWOLF': 2},\n",
       "  \"[('MEDIUM_MEDIUM', 1), ('MEDIUM_WEREWOLF', 1), ('SEER_SEER', 1), ('SEER_VILLAGER', 2), ('SEER_WEREWOLF', 1), ('VILLAGER_VILLAGER', 8)]\": {'N': 2,\n",
       "   'VILLAGER': 1,\n",
       "   'WEREWOLF': 1}},\n",
       " \"[('MEDIUM', 2), ('SEER', 4)]\": {\"[('MEDIUM_MEDIUM', 1), ('MEDIUM_WEREWOLF', 1), ('SEER_POSSESSED', 1), ('SEER_SEER', 1), ('SEER_WEREWOLF', 2)]\": {'N': 6,\n",
       "   'VILLAGER': 4,\n",
       "   'WEREWOLF': 2}},\n",
       " \"[('MEDIUM', 2), ('SEER', 5), ('VILLAGER', 8)]\": {\"[('MEDIUM_MEDIUM', 1), ('MEDIUM_WEREWOLF', 1), ('SEER_POSSESSED', 1), ('SEER_SEER', 1), ('SEER_VILLAGER', 2), ('SEER_WEREWOLF', 1), ('VILLAGER_VILLAGER', 8)]\": {'N': 6,\n",
       "   'VILLAGER': 4,\n",
       "   'WEREWOLF': 2}},\n",
       " \"[('MEDIUM', 2)]\": {\"[('MEDIUM_MEDIUM', 1), ('MEDIUM_WEREWOLF', 1)]\": {'N': 15,\n",
       "   'VILLAGER': 7,\n",
       "   'WEREWOLF': 8}},\n",
       " \"[('SEER', 1)]\": {\"[('SEER_POSSESSED', 1)]\": {'N': 99,\n",
       "   'VILLAGER': 17,\n",
       "   'WEREWOLF': 82},\n",
       "  \"[('SEER_SEER', 1)]\": {'N': 72, 'VILLAGER': 34, 'WEREWOLF': 38},\n",
       "  \"[('SEER_WEREWOLF', 1)]\": {'N': 15, 'VILLAGER': 1, 'WEREWOLF': 14}},\n",
       " \"[('SEER', 2)]\": {\"[('SEER_POSSESSED', 1), ('SEER_SEER', 1)]\": {'N': 494,\n",
       "   'VILLAGER': 157,\n",
       "   'WEREWOLF': 337},\n",
       "  \"[('SEER_POSSESSED', 1), ('SEER_WEREWOLF', 1)]\": {'N': 108,\n",
       "   'VILLAGER': 24,\n",
       "   'WEREWOLF': 84},\n",
       "  \"[('SEER_SEER', 1), ('SEER_WEREWOLF', 1)]\": {'N': 120,\n",
       "   'VILLAGER': 57,\n",
       "   'WEREWOLF': 63},\n",
       "  \"[('SEER_WEREWOLF', 2)]\": {'N': 1, 'VILLAGER': 1, 'WEREWOLF': 0}},\n",
       " \"[('SEER', 3), ('VILLAGER', 8)]\": {\"[('SEER_POSSESSED', 1), ('SEER_VILLAGER', 2), ('VILLAGER_VILLAGER', 8)]\": {'N': 3,\n",
       "   'VILLAGER': 1,\n",
       "   'WEREWOLF': 2},\n",
       "  \"[('SEER_SEER', 1), ('SEER_VILLAGER', 2), ('VILLAGER_VILLAGER', 8)]\": {'N': 2,\n",
       "   'VILLAGER': 1,\n",
       "   'WEREWOLF': 1}},\n",
       " \"[('SEER', 3)]\": {\"[('SEER_POSSESSED', 1), ('SEER_SEER', 1), ('SEER_WEREWOLF', 1)]\": {'N': 627,\n",
       "   'VILLAGER': 257,\n",
       "   'WEREWOLF': 370},\n",
       "  \"[('SEER_POSSESSED', 1), ('SEER_WEREWOLF', 2)]\": {'N': 2,\n",
       "   'VILLAGER': 0,\n",
       "   'WEREWOLF': 2},\n",
       "  \"[('SEER_SEER', 1), ('SEER_WEREWOLF', 2)]\": {'N': 6,\n",
       "   'VILLAGER': 3,\n",
       "   'WEREWOLF': 3}},\n",
       " \"[('SEER', 4), ('VILLAGER', 8)]\": {\"[('SEER_POSSESSED', 1), ('SEER_SEER', 1), ('SEER_VILLAGER', 2), ('VILLAGER_VILLAGER', 8)]\": {'N': 6,\n",
       "   'VILLAGER': 3,\n",
       "   'WEREWOLF': 3},\n",
       "  \"[('SEER_POSSESSED', 1), ('SEER_VILLAGER', 2), ('SEER_WEREWOLF', 1), ('VILLAGER_VILLAGER', 8)]\": {'N': 2,\n",
       "   'VILLAGER': 0,\n",
       "   'WEREWOLF': 2}},\n",
       " \"[('SEER', 4)]\": {\"[('SEER_POSSESSED', 1), ('SEER_SEER', 1), ('SEER_WEREWOLF', 2)]\": {'N': 22,\n",
       "   'VILLAGER': 17,\n",
       "   'WEREWOLF': 5}},\n",
       " \"[('SEER', 5), ('VILLAGER', 8)]\": {\"[('SEER_POSSESSED', 1), ('SEER_SEER', 1), ('SEER_VILLAGER', 2), ('SEER_WEREWOLF', 1), ('VILLAGER_VILLAGER', 8)]\": {'N': 11,\n",
       "   'VILLAGER': 3,\n",
       "   'WEREWOLF': 8}},\n",
       " '[]': {'[]': {'N': 33, 'VILLAGER': 6, 'WEREWOLF': 27}}}"
      ]
     },
     "execution_count": 74,
     "metadata": {},
     "output_type": "execute_result"
    }
   ],
   "source": [
    "jinkei_dict"
   ]
  },
  {
   "cell_type": "markdown",
   "metadata": {},
   "source": [
    "### 見づらいので、代表的なものを抽出"
   ]
  },
  {
   "cell_type": "markdown",
   "metadata": {},
   "source": [
    "##### 占い1 霊媒0"
   ]
  },
  {
   "cell_type": "code",
   "execution_count": 77,
   "metadata": {
    "collapsed": false
   },
   "outputs": [
    {
     "name": "stdout",
     "output_type": "stream",
     "text": [
      "186\n",
      "15 [('SEER_WEREWOLF', 1)] 0.06666666666666667\n",
      "99 [('SEER_POSSESSED', 1)] 0.1717171717171717\n",
      "72 [('SEER_SEER', 1)] 0.4722222222222222\n"
     ]
    }
   ],
   "source": [
    "k = \"[('SEER', 1)]\"\n",
    "print(sum([jinkei_dict[k][l][\"N\"] for l in jinkei_dict[k].keys()]))\n",
    "for l in jinkei_dict[k].keys():\n",
    "    print(jinkei_dict[k][l][\"N\"], l, jinkei_dict[k][l][\"VILLAGER\"]/jinkei_dict[k][l][\"N\"])"
   ]
  },
  {
   "cell_type": "markdown",
   "metadata": {},
   "source": [
    "狂っぽい"
   ]
  },
  {
   "cell_type": "markdown",
   "metadata": {},
   "source": [
    "##### 占い2 霊媒0"
   ]
  },
  {
   "cell_type": "code",
   "execution_count": 79,
   "metadata": {
    "collapsed": false
   },
   "outputs": [
    {
     "name": "stdout",
     "output_type": "stream",
     "text": [
      "723\n",
      "1 [('SEER_WEREWOLF', 2)] 1.0\n",
      "120 [('SEER_SEER', 1), ('SEER_WEREWOLF', 1)] 0.475\n",
      "108 [('SEER_POSSESSED', 1), ('SEER_WEREWOLF', 1)] 0.2222222222222222\n",
      "494 [('SEER_POSSESSED', 1), ('SEER_SEER', 1)] 0.31781376518218624\n"
     ]
    }
   ],
   "source": [
    "k = \"[('SEER', 2)]\"\n",
    "print(sum([jinkei_dict[k][l][\"N\"] for l in jinkei_dict[k].keys()]))\n",
    "for l in jinkei_dict[k].keys():\n",
    "    print(jinkei_dict[k][l][\"N\"], l, jinkei_dict[k][l][\"VILLAGER\"]/jinkei_dict[k][l][\"N\"])"
   ]
  },
  {
   "cell_type": "markdown",
   "metadata": {},
   "source": [
    "真狂が一番多い(494)けど、真狼(120)、狂狼(108)も意外といる"
   ]
  },
  {
   "cell_type": "markdown",
   "metadata": {},
   "source": [
    "##### 占い3 霊媒0"
   ]
  },
  {
   "cell_type": "code",
   "execution_count": 80,
   "metadata": {
    "collapsed": false
   },
   "outputs": [
    {
     "name": "stdout",
     "output_type": "stream",
     "text": [
      "635\n",
      "6 [('SEER_SEER', 1), ('SEER_WEREWOLF', 2)] 0.5\n",
      "627 [('SEER_POSSESSED', 1), ('SEER_SEER', 1), ('SEER_WEREWOLF', 1)] 0.4098883572567783\n",
      "2 [('SEER_POSSESSED', 1), ('SEER_WEREWOLF', 2)] 0.0\n"
     ]
    }
   ],
   "source": [
    "k = \"[('SEER', 3)]\"\n",
    "print(sum([jinkei_dict[k][l][\"N\"] for l in jinkei_dict[k].keys()]))\n",
    "for l in jinkei_dict[k].keys():\n",
    "    print(jinkei_dict[k][l][\"N\"], l, jinkei_dict[k][l][\"VILLAGER\"]/jinkei_dict[k][l][\"N\"])"
   ]
  },
  {
   "cell_type": "markdown",
   "metadata": {},
   "source": [
    "さすがに真狂狼"
   ]
  },
  {
   "cell_type": "markdown",
   "metadata": {},
   "source": [
    "##### 占い1 霊媒1"
   ]
  },
  {
   "cell_type": "code",
   "execution_count": 81,
   "metadata": {
    "collapsed": false
   },
   "outputs": [
    {
     "name": "stdout",
     "output_type": "stream",
     "text": [
      "102\n",
      "39 [('MEDIUM_MEDIUM', 1), ('SEER_SEER', 1)] 0.46153846153846156\n",
      "4 [('MEDIUM_WEREWOLF', 1), ('SEER_SEER', 1)] 0.5\n",
      "8 [('MEDIUM_MEDIUM', 1), ('SEER_WEREWOLF', 1)] 0.125\n",
      "10 [('MEDIUM_WEREWOLF', 1), ('SEER_POSSESSED', 1)] 0.0\n",
      "2 [('MEDIUM_WEREWOLF', 1), ('SEER_WEREWOLF', 1)] 0.0\n",
      "39 [('MEDIUM_MEDIUM', 1), ('SEER_POSSESSED', 1)] 0.15384615384615385\n"
     ]
    }
   ],
   "source": [
    "k = \"[('MEDIUM', 1), ('SEER', 1)]\"\n",
    "print(sum([jinkei_dict[k][l][\"N\"] for l in jinkei_dict[k].keys()]))\n",
    "for l in jinkei_dict[k].keys():\n",
    "    print(jinkei_dict[k][l][\"N\"], l, jinkei_dict[k][l][\"VILLAGER\"]/jinkei_dict[k][l][\"N\"])"
   ]
  },
  {
   "cell_type": "markdown",
   "metadata": {},
   "source": [
    "##### 占い2 霊媒1"
   ]
  },
  {
   "cell_type": "code",
   "execution_count": 82,
   "metadata": {
    "collapsed": false
   },
   "outputs": [
    {
     "name": "stdout",
     "output_type": "stream",
     "text": [
      "448\n",
      "39 [('MEDIUM_WEREWOLF', 1), ('SEER_POSSESSED', 1), ('SEER_SEER', 1)] 0.23076923076923078\n",
      "14 [('MEDIUM_WEREWOLF', 1), ('SEER_POSSESSED', 1), ('SEER_WEREWOLF', 1)] 0.14285714285714285\n",
      "63 [('MEDIUM_MEDIUM', 1), ('SEER_SEER', 1), ('SEER_WEREWOLF', 1)] 0.4126984126984127\n",
      "12 [('MEDIUM_WEREWOLF', 1), ('SEER_SEER', 1), ('SEER_WEREWOLF', 1)] 0.5\n",
      "73 [('MEDIUM_MEDIUM', 1), ('SEER_POSSESSED', 1), ('SEER_WEREWOLF', 1)] 0.2191780821917808\n",
      "247 [('MEDIUM_MEDIUM', 1), ('SEER_POSSESSED', 1), ('SEER_SEER', 1)] 0.39271255060728744\n"
     ]
    }
   ],
   "source": [
    "k = \"[('MEDIUM', 1), ('SEER', 2)]\"\n",
    "print(sum([jinkei_dict[k][l][\"N\"] for l in jinkei_dict[k].keys()]))\n",
    "for l in jinkei_dict[k].keys():\n",
    "    print(jinkei_dict[k][l][\"N\"], l, jinkei_dict[k][l][\"VILLAGER\"]/jinkei_dict[k][l][\"N\"])"
   ]
  },
  {
   "cell_type": "markdown",
   "metadata": {},
   "source": [
    "真狂ー真の狼3潜伏がこの中では多い。  \n",
    "全体通して最もオーソドックスかと思った(仮に全部cashだとこうなる)が、そうでもない"
   ]
  },
  {
   "cell_type": "markdown",
   "metadata": {},
   "source": [
    "##### 占い3 霊媒1"
   ]
  },
  {
   "cell_type": "code",
   "execution_count": 83,
   "metadata": {
    "collapsed": false
   },
   "outputs": [
    {
     "name": "stdout",
     "output_type": "stream",
     "text": [
      "413\n",
      "90 [('MEDIUM_WEREWOLF', 1), ('SEER_POSSESSED', 1), ('SEER_SEER', 1), ('SEER_WEREWOLF', 1)] 0.3888888888888889\n",
      "1 [('MEDIUM_WEREWOLF', 1), ('SEER_POSSESSED', 1), ('SEER_WEREWOLF', 2)] 0.0\n",
      "4 [('MEDIUM_MEDIUM', 1), ('SEER_POSSESSED', 1), ('SEER_WEREWOLF', 2)] 0.25\n",
      "1 [('MEDIUM_MEDIUM', 1), ('SEER_SEER', 1), ('SEER_WEREWOLF', 2)] 1.0\n",
      "1 [('MEDIUM_WEREWOLF', 1), ('SEER_SEER', 1), ('SEER_WEREWOLF', 2)] 0.0\n",
      "316 [('MEDIUM_MEDIUM', 1), ('SEER_POSSESSED', 1), ('SEER_SEER', 1), ('SEER_WEREWOLF', 1)] 0.40189873417721517\n"
     ]
    }
   ],
   "source": [
    "k = \"[('MEDIUM', 1), ('SEER', 3)]\"\n",
    "print(sum([jinkei_dict[k][l][\"N\"] for l in jinkei_dict[k].keys()]))\n",
    "for l in jinkei_dict[k].keys():\n",
    "    print(jinkei_dict[k][l][\"N\"], l, jinkei_dict[k][l][\"VILLAGER\"]/jinkei_dict[k][l][\"N\"])"
   ]
  },
  {
   "cell_type": "markdown",
   "metadata": {},
   "source": [
    "真狂狼ー真が一番多い。真狂狼ー狼も90あるけど、真霊媒はさすがにこうなったら潜伏しちゃダメだと思う。  \n",
    "霊媒が真と思えたら、3分の1人狼の占いから吊る？  \n",
    "黒が出ていたら霊媒鉄板護衛の黒出し吊り？    "
   ]
  },
  {
   "cell_type": "markdown",
   "metadata": {},
   "source": [
    "##### 占い1 霊媒2"
   ]
  },
  {
   "cell_type": "code",
   "execution_count": 84,
   "metadata": {
    "collapsed": false
   },
   "outputs": [
    {
     "name": "stdout",
     "output_type": "stream",
     "text": [
      "111\n",
      "57 [('MEDIUM_MEDIUM', 1), ('MEDIUM_WEREWOLF', 1), ('SEER_POSSESSED', 1)] 0.19298245614035087\n",
      "7 [('MEDIUM_MEDIUM', 1), ('MEDIUM_WEREWOLF', 1), ('SEER_WEREWOLF', 1)] 0.42857142857142855\n",
      "47 [('MEDIUM_MEDIUM', 1), ('MEDIUM_WEREWOLF', 1), ('SEER_SEER', 1)] 0.5957446808510638\n"
     ]
    }
   ],
   "source": [
    "k = \"[('MEDIUM', 2), ('SEER', 1)]\"\n",
    "print(sum([jinkei_dict[k][l][\"N\"] for l in jinkei_dict[k].keys()]))\n",
    "for l in jinkei_dict[k].keys():\n",
    "    print(jinkei_dict[k][l][\"N\"], l, jinkei_dict[k][l][\"VILLAGER\"]/jinkei_dict[k][l][\"N\"])"
   ]
  },
  {
   "cell_type": "markdown",
   "metadata": {},
   "source": [
    "占いのバリエーションは色々あるけど、真占いはさすがにCOしよう。"
   ]
  },
  {
   "cell_type": "markdown",
   "metadata": {},
   "source": [
    "##### 占い2 霊媒2"
   ]
  },
  {
   "cell_type": "code",
   "execution_count": 85,
   "metadata": {
    "collapsed": false
   },
   "outputs": [
    {
     "name": "stdout",
     "output_type": "stream",
     "text": [
      "381\n",
      "212 [('MEDIUM_MEDIUM', 1), ('MEDIUM_WEREWOLF', 1), ('SEER_POSSESSED', 1), ('SEER_SEER', 1)] 0.4056603773584906\n",
      "71 [('MEDIUM_MEDIUM', 1), ('MEDIUM_WEREWOLF', 1), ('SEER_POSSESSED', 1), ('SEER_WEREWOLF', 1)] 0.29577464788732394\n",
      "98 [('MEDIUM_MEDIUM', 1), ('MEDIUM_WEREWOLF', 1), ('SEER_SEER', 1), ('SEER_WEREWOLF', 1)] 0.5510204081632653\n"
     ]
    }
   ],
   "source": [
    "k = \"[('MEDIUM', 2), ('SEER', 2)]\"\n",
    "print(sum([jinkei_dict[k][l][\"N\"] for l in jinkei_dict[k].keys()]))\n",
    "for l in jinkei_dict[k].keys():\n",
    "    print(jinkei_dict[k][l][\"N\"], l, jinkei_dict[k][l][\"VILLAGER\"]/jinkei_dict[k][l][\"N\"])"
   ]
  },
  {
   "cell_type": "markdown",
   "metadata": {},
   "source": [
    "真狂ー真狼が一番多いけど、それ以外も結構ある。霊媒は真狼。やはりローラーか。"
   ]
  },
  {
   "cell_type": "markdown",
   "metadata": {},
   "source": [
    "##### 占い3 霊媒2"
   ]
  },
  {
   "cell_type": "code",
   "execution_count": 86,
   "metadata": {
    "collapsed": false
   },
   "outputs": [
    {
     "name": "stdout",
     "output_type": "stream",
     "text": [
      "336\n",
      "5 [('MEDIUM_MEDIUM', 1), ('MEDIUM_WEREWOLF', 1), ('SEER_SEER', 1), ('SEER_WEREWOLF', 2)] 0.6\n",
      "328 [('MEDIUM_MEDIUM', 1), ('MEDIUM_WEREWOLF', 1), ('SEER_POSSESSED', 1), ('SEER_SEER', 1), ('SEER_WEREWOLF', 1)] 0.5335365853658537\n",
      "3 [('MEDIUM_MEDIUM', 1), ('MEDIUM_WEREWOLF', 1), ('SEER_POSSESSED', 1), ('SEER_WEREWOLF', 2)] 0.3333333333333333\n"
     ]
    }
   ],
   "source": [
    "k = \"[('MEDIUM', 2), ('SEER', 3)]\"\n",
    "print(sum([jinkei_dict[k][l][\"N\"] for l in jinkei_dict[k].keys()]))\n",
    "for l in jinkei_dict[k].keys():\n",
    "    print(jinkei_dict[k][l][\"N\"], l, jinkei_dict[k][l][\"VILLAGER\"]/jinkei_dict[k][l][\"N\"])"
   ]
  },
  {
   "cell_type": "markdown",
   "metadata": {},
   "source": [
    "さすがに真狂狼ー真狼。霊媒ローラーから全ローラーか。村が勝ちやすいようだ。"
   ]
  },
  {
   "cell_type": "markdown",
   "metadata": {},
   "source": [
    "##### カバレッジ"
   ]
  },
  {
   "cell_type": "code",
   "execution_count": 56,
   "metadata": {
    "collapsed": false
   },
   "outputs": [
    {
     "data": {
      "text/plain": [
       "0.9263888888888889"
      ]
     },
     "execution_count": 56,
     "metadata": {},
     "output_type": "execute_result"
    }
   ],
   "source": [
    "(186 + 723 + 635 + 102 + 448 + 413 + 111 + 381 + 336) / 3600"
   ]
  },
  {
   "cell_type": "markdown",
   "metadata": {},
   "source": [
    "##### 珍プレー"
   ]
  },
  {
   "cell_type": "code",
   "execution_count": 57,
   "metadata": {
    "collapsed": false
   },
   "outputs": [
    {
     "name": "stdout",
     "output_type": "stream",
     "text": [
      "16 {\"[('MEDIUM_MEDIUM', 1), ('MEDIUM_WEREWOLF', 1), ('SEER_POSSESSED', 1), ('SEER_SEER', 1), ('SEER_VILLAGER', 2), ('VILLAGER_VILLAGER', 8)]\": 11, \"[('MEDIUM_MEDIUM', 1), ('MEDIUM_WEREWOLF', 1), ('SEER_POSSESSED', 1), ('SEER_VILLAGER', 2), ('SEER_WEREWOLF', 1), ('VILLAGER_VILLAGER', 8)]\": 3, \"[('MEDIUM_MEDIUM', 1), ('MEDIUM_WEREWOLF', 1), ('SEER_SEER', 1), ('SEER_VILLAGER', 2), ('SEER_WEREWOLF', 1), ('VILLAGER_VILLAGER', 8)]\": 2}\n"
     ]
    }
   ],
   "source": [
    "k = \"[('MEDIUM', 2), ('SEER', 4), ('VILLAGER', 8)]\"\n",
    "print(sum([jinkei_dict[k][l] for l in jinkei_dict[k].keys()]), jinkei_dict[k])"
   ]
  },
  {
   "cell_type": "markdown",
   "metadata": {},
   "source": [
    "村人が8CO?(このパターン以外もある)  \n",
    "探してみる"
   ]
  },
  {
   "cell_type": "code",
   "execution_count": 60,
   "metadata": {
    "collapsed": false
   },
   "outputs": [
    {
     "name": "stdout",
     "output_type": "stream",
     "text": [
      "1 20\n",
      "1 47\n",
      "1 49\n"
     ]
    }
   ],
   "source": [
    "# 36*100 games\n",
    "jinkei_dict = {}\n",
    "i = 1\n",
    "for j in range(100):\n",
    "    log_path = \"../log/yobiyosen_2017/rev117/game-\" + str(i) + \"/\" + \"{0:03d}\".format(j) + \".log\"\n",
    "    k, l = count_co(log_path)\n",
    "    if \"('VILLAGER', 8)\" in k:\n",
    "        print(i, j)"
   ]
  },
  {
   "cell_type": "code",
   "execution_count": null,
   "metadata": {
    "collapsed": true
   },
   "outputs": [],
   "source": [
    "0,status,1,WEREWOLF,ALIVE,kasuka\n",
    "0,status,2,VILLAGER,ALIVE,sonoda\n",
    "0,status,3,VILLAGER,ALIVE,tori\n",
    "0,status,4,POSSESSED,ALIVE,AITKN\n",
    "0,status,5,MEDIUM,ALIVE,wasabi\n",
    "0,status,6,VILLAGER,ALIVE,carlo\n",
    "0,status,7,VILLAGER,ALIVE,tsukammo\n",
    "0,status,8,BODYGUARD,ALIVE,RyuZyu\n",
    "0,status,9,VILLAGER,ALIVE,colun\n",
    "0,status,10,VILLAGER,ALIVE,Udon\n",
    "0,status,11,VILLAGER,ALIVE,megumish\n",
    "0,status,12,SEER,ALIVE,Noppo\n",
    "0,status,13,WEREWOLF,ALIVE,Litt1eGirl\n",
    "0,status,14,VILLAGER,ALIVE,JuN1Ro\n",
    "0,status,15,WEREWOLF,ALIVE,cash\n",
    "0,whisper,0,0,13,COMINGOUT Agent[13] VILLAGER\n",
    "0,whisper,1,0,1,COMINGOUT Agent[01] MEDIUM\n",
    "0,whisper,2,0,15,Skip\n",
    "0,whisper,3,1,1,Skip\n",
    "0,whisper,4,1,13,Over\n",
    "0,whisper,5,1,15,Skip\n",
    "0,whisper,6,2,1,Skip\n",
    "0,whisper,7,2,15,Over\n",
    "0,whisper,8,2,13,Over\n",
    "0,whisper,9,3,15,Over\n",
    "0,whisper,10,3,1,Over\n",
    "0,whisper,11,3,13,Over\n",
    "0,divine,12,4,HUMAN\n",
    "1,status,1,WEREWOLF,ALIVE,kasuka\n",
    "1,status,2,VILLAGER,ALIVE,sonoda\n",
    "1,status,3,VILLAGER,ALIVE,tori\n",
    "1,status,4,POSSESSED,ALIVE,AITKN\n",
    "1,status,5,MEDIUM,ALIVE,wasabi\n",
    "1,status,6,VILLAGER,ALIVE,carlo\n",
    "1,status,7,VILLAGER,ALIVE,tsukammo\n",
    "1,status,8,BODYGUARD,ALIVE,RyuZyu\n",
    "1,status,9,VILLAGER,ALIVE,colun\n",
    "1,status,10,VILLAGER,ALIVE,Udon\n",
    "1,status,11,VILLAGER,ALIVE,megumish\n",
    "1,status,12,SEER,ALIVE,Noppo\n",
    "1,status,13,WEREWOLF,ALIVE,Litt1eGirl\n",
    "1,status,14,VILLAGER,ALIVE,JuN1Ro\n",
    "1,status,15,WEREWOLF,ALIVE,cash\n",
    "1,talk,0,0,1,VOTE Agent[02]\n",
    "1,talk,1,0,5,COMINGOUT Agent[05] MEDIUM\n",
    "1,talk,2,0,11,VOTE Agent[01]\n",
    "1,talk,3,0,14,COMINGOUT Agent[14] SEER\n",
    "1,talk,4,0,2,Skip\n",
    "1,talk,5,0,12,COMINGOUT Agent[12] SEER\n",
    "1,talk,6,0,10,VOTE Agent[07]\n",
    "1,talk,7,0,8,VOTE Agent[09]\n",
    "1,talk,8,0,7,VOTE Agent[14]\n",
    "1,talk,9,0,4,COMINGOUT Agent[04] SEER\n",
    "1,talk,10,0,13,Over\n",
    "1,talk,11,0,9,VOTE Agent[03]\n",
    "1,talk,12,0,3,VOTE Agent[10]\n",
    "1,talk,13,0,6,VOTE Agent[01]\n",
    "1,talk,14,0,15,VOTE Agent[02]\n",
    "1,talk,15,1,9,Skip\n",
    "1,talk,16,1,6,Skip\n",
    "1,talk,17,1,12,DIVINED Agent[04] HUMAN\n",
    "1,talk,18,1,5,Skip\n",
    "1,talk,19,1,1,REQUEST(VOTE Agent[02])\n",
    "1,talk,20,1,15,VOTE Agent[14]\n",
    "1,talk,21,1,3,Skip\n",
    "1,talk,22,1,4,DIVINED Agent[12] HUMAN\n",
    "1,talk,23,1,14,COMINGOUT Agent[14] SEER\n",
    "1,talk,24,1,7,ESTIMATE Agent[12] WEREWOLF\n",
    "1,talk,25,1,13,Over\n",
    "1,talk,26,1,8,Skip\n",
    "1,talk,27,1,11,VOTE Agent[01]\n",
    "1,talk,28,1,10,VOTE Agent[01]\n",
    "1,talk,29,1,2,Skip\n",
    "1,talk,30,2,1,VOTE Agent[05]\n",
    "1,talk,31,2,5,Skip\n",
    "1,talk,32,2,10,Over\n",
    "1,talk,33,2,4,VOTE Agent[01]\n",
    "1,talk,34,2,15,Skip\n",
    "1,talk,35,2,8,ESTIMATE Agent[04] SEER\n",
    "1,talk,36,2,9,ESTIMATE Agent[04] SEER\n",
    "1,talk,37,2,13,Over\n",
    "1,talk,38,2,11,VOTE Agent[01]\n",
    "1,talk,39,2,6,Skip\n",
    "1,talk,40,2,12,Over\n",
    "1,talk,41,2,7,ESTIMATE Agent[04] WEREWOLF\n",
    "1,talk,42,2,14,COMINGOUT Agent[14] VILLAGER\n",
    "1,talk,43,2,2,Over\n",
    "1,talk,44,2,3,ESTIMATE Agent[04] SEER\n",
    "1,talk,45,3,11,VOTE Agent[01]\n",
    "1,talk,46,3,4,REQUEST(VOTE Agent[01])\n",
    "1,talk,47,3,12,Over\n",
    "1,talk,48,3,1,REQUEST(VOTE Agent[05])\n",
    "1,talk,49,3,5,Over\n",
    "1,talk,50,3,8,Skip\n",
    "1,talk,51,3,15,Skip\n",
    "1,talk,52,3,9,Skip\n",
    "1,talk,53,3,13,Over\n",
    "1,talk,54,3,3,Skip\n",
    "1,talk,55,3,14,COMINGOUT Agent[14] VILLAGER\n",
    "1,talk,56,3,7,ESTIMATE Agent[11] WEREWOLF\n",
    "1,talk,57,3,2,Over\n",
    "1,talk,58,3,10,Over\n",
    "1,talk,59,3,6,Over\n",
    "1,talk,60,4,3,Skip\n",
    "1,talk,61,4,15,Over\n",
    "1,talk,62,4,10,Over\n",
    "1,talk,63,4,12,Over\n",
    "1,talk,64,4,5,Over\n",
    "1,talk,65,4,4,ESTIMATE Agent[14] POSSESSED\n",
    "1,talk,66,4,2,Over\n",
    "1,talk,67,4,9,Skip\n",
    "1,talk,68,4,1,COMINGOUT Agent[01] MEDIUM\n",
    "1,talk,69,4,11,Over\n",
    "1,talk,70,4,8,Skip\n",
    "1,talk,71,4,14,COMINGOUT Agent[14] VILLAGER\n",
    "1,talk,72,4,13,Over\n",
    "1,talk,73,4,7,ESTIMATE Agent[13] WEREWOLF\n",
    "1,talk,74,4,6,Over\n",
    "1,talk,75,5,1,Skip\n",
    "1,talk,76,5,11,Over\n",
    "1,talk,77,5,14,COMINGOUT Agent[14] VILLAGER\n",
    "1,talk,78,5,15,Over\n",
    "1,talk,79,5,9,Over\n",
    "1,talk,80,5,8,Over\n",
    "1,talk,81,5,2,Over\n",
    "1,talk,82,5,7,VOTE Agent[01]\n",
    "1,talk,83,5,4,ESTIMATE Agent[12] POSSESSED\n",
    "1,talk,84,5,5,Over\n",
    "1,talk,85,5,3,Over\n",
    "1,talk,86,5,12,Over\n",
    "1,talk,87,5,10,Over\n",
    "1,talk,88,5,6,VOTE Agent[02]\n",
    "1,talk,89,5,13,Over\n",
    "1,talk,90,6,2,Over\n",
    "1,talk,91,6,8,Over\n",
    "1,talk,92,6,9,Over\n",
    "1,talk,93,6,10,Over\n",
    "1,talk,94,6,1,Skip\n",
    "1,talk,95,6,6,Skip\n",
    "1,talk,96,6,11,Over\n",
    "1,talk,97,6,13,Over\n",
    "1,talk,98,6,14,COMINGOUT Agent[14] VILLAGER\n",
    "1,talk,99,6,5,VOTE Agent[01]\n",
    "1,talk,100,6,4,ESTIMATE Agent[14] POSSESSED\n",
    "1,talk,101,6,12,Over\n",
    "1,talk,102,6,3,Over\n",
    "1,talk,103,6,15,Over\n",
    "1,talk,104,6,7,ESTIMATE Agent[01] WEREWOLF\n",
    "1,talk,105,7,8,Over\n",
    "1,talk,106,7,9,Over\n",
    "1,talk,107,7,13,Over\n",
    "1,talk,108,7,7,ESTIMATE Agent[15] WEREWOLF\n",
    "1,talk,109,7,10,Over\n",
    "1,talk,110,7,4,VOTE Agent[05]\n",
    "1,talk,111,7,14,COMINGOUT Agent[14] VILLAGER\n",
    "1,talk,112,7,1,Over\n",
    "1,talk,113,7,3,Over\n",
    "1,talk,114,7,12,Over\n",
    "1,talk,115,7,6,Skip\n",
    "1,talk,116,7,5,ESTIMATE Agent[14] WEREWOLF\n",
    "1,talk,117,7,2,Over\n",
    "1,talk,118,7,15,Over\n",
    "1,talk,119,7,11,VOTE Agent[01]\n",
    "1,talk,120,8,2,Over\n",
    "1,talk,121,8,9,Over\n",
    "1,talk,122,8,14,COMINGOUT Agent[14] VILLAGER\n",
    "1,talk,123,8,13,Over\n",
    "1,talk,124,8,8,Over\n",
    "1,talk,125,8,10,Over\n",
    "1,talk,126,8,7,ESTIMATE Agent[12] SEER\n",
    "1,talk,127,8,12,Over\n",
    "1,talk,128,8,15,Over\n",
    "1,talk,129,8,1,Over\n",
    "1,talk,130,8,6,Over\n",
    "1,talk,131,8,11,Over\n",
    "1,talk,132,8,4,DIVINATION Agent[11]\n",
    "1,talk,133,8,5,ESTIMATE Agent[13] VILLAGER\n",
    "1,talk,134,8,3,Over\n",
    "1,talk,135,9,7,Over\n",
    "1,talk,136,9,3,Over\n",
    "1,talk,137,9,2,Over\n",
    "1,talk,138,9,6,Over\n",
    "1,talk,139,9,13,Over\n",
    "1,talk,140,9,5,ESTIMATE Agent[04] WEREWOLF\n",
    "1,talk,141,9,15,Over\n",
    "1,talk,142,9,12,Over\n",
    "1,talk,143,9,10,Over\n",
    "1,talk,144,9,8,Over\n",
    "1,talk,145,9,1,Over\n",
    "1,talk,146,9,11,Over\n",
    "1,talk,147,9,14,COMINGOUT Agent[14] VILLAGER\n",
    "1,talk,148,9,4,Skip\n",
    "1,talk,149,9,9,Over\n",
    "1,talk,150,10,8,Over\n",
    "1,talk,151,10,5,Over\n",
    "1,talk,152,10,13,Over\n",
    "1,talk,153,10,7,Over\n",
    "1,talk,154,10,6,Over\n",
    "1,talk,155,10,10,Over\n",
    "1,talk,156,10,4,Skip\n",
    "1,talk,157,10,2,Over\n",
    "1,talk,158,10,9,Over\n",
    "1,talk,159,10,14,Over\n",
    "1,talk,160,10,1,Over\n",
    "1,talk,161,10,15,Over\n",
    "1,talk,162,10,11,Over\n",
    "1,talk,163,10,3,Over\n",
    "1,talk,164,10,12,Over\n",
    "1,talk,165,11,6,Over\n",
    "1,talk,166,11,2,Over\n",
    "1,talk,167,11,11,Over\n",
    "1,talk,168,11,7,Over\n",
    "1,talk,169,11,8,Over\n",
    "1,talk,170,11,9,Over\n",
    "1,talk,171,11,4,Over\n",
    "1,talk,172,11,5,Over\n",
    "1,talk,173,11,15,Over\n",
    "1,talk,174,11,14,Over\n",
    "1,talk,175,11,1,Over\n",
    "1,talk,176,11,13,Over\n",
    "1,talk,177,11,3,Over\n",
    "1,talk,178,11,10,Over\n",
    "1,talk,179,11,12,Over\n",
    "1,vote,1,5\n",
    "1,vote,2,12\n",
    "1,vote,3,10\n",
    "1,vote,4,1\n",
    "1,vote,5,1\n",
    "1,vote,6,2\n",
    "1,vote,7,1\n",
    "1,vote,8,9\n",
    "1,vote,9,3\n",
    "1,vote,10,1\n",
    "1,vote,11,1\n",
    "1,vote,12,15\n",
    "1,vote,13,5\n",
    "1,vote,14,1\n",
    "1,vote,15,14\n",
    "1,execute,1,WEREWOLF\n",
    "1,divine,12,8,HUMAN\n",
    "1,whisper,0,0,13,Over\n",
    "1,whisper,1,0,15,Skip\n",
    "1,whisper,2,1,13,Over\n",
    "1,whisper,3,1,15,Skip\n",
    "1,whisper,4,2,13,Over\n",
    "1,whisper,5,2,15,Over\n",
    "1,guard,8,4,POSSESSED\n",
    "1,attackVote,13,14\n",
    "1,attack,14,true"
   ]
  },
  {
   "cell_type": "markdown",
   "metadata": {},
   "source": [
    "なるほど村人が占いCOして、撤回して延々村人CO。  \n",
    "人狼が出にくくなってるのかな。  "
   ]
  },
  {
   "cell_type": "markdown",
   "metadata": {},
   "source": []
  },
  {
   "cell_type": "code",
   "execution_count": null,
   "metadata": {
    "collapsed": true
   },
   "outputs": [],
   "source": []
  }
 ],
 "metadata": {
  "anaconda-cloud": {},
  "kernelspec": {
   "display_name": "Python3",
   "language": "python",
   "name": "py35"
  },
  "language_info": {
   "codemirror_mode": {
    "name": "ipython",
    "version": 3
   },
   "file_extension": ".py",
   "mimetype": "text/x-python",
   "name": "python",
   "nbconvert_exporter": "python",
   "pygments_lexer": "ipython3",
   "version": "3.5.2"
  }
 },
 "nbformat": 4,
 "nbformat_minor": 1
}
