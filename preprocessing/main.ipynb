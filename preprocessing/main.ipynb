{
 "cells": [
  {
   "cell_type": "code",
   "execution_count": 1,
   "id": "d736b4f5-fd83-4f0a-afb6-81c2db779eab",
   "metadata": {},
   "outputs": [],
   "source": [
    "from datasets import load_dataset\n",
    "import torch\n",
    "import numpy as np\n",
    "import pandas as pd\n",
    "from datasets import Dataset\n",
    "from datasets import DatasetDict"
   ]
  },
  {
   "cell_type": "markdown",
   "id": "9e9fb232-87f7-44c7-aa30-850d5b35c7ad",
   "metadata": {
    "jp-MarkdownHeadingCollapsed": true,
    "tags": []
   },
   "source": [
    "## CUDA"
   ]
  },
  {
   "cell_type": "code",
   "execution_count": null,
   "id": "f3d24630-16b0-4640-9a38-a5bbff92ff50",
   "metadata": {},
   "outputs": [],
   "source": [
    "torch.cuda.empty_cache()"
   ]
  },
  {
   "cell_type": "code",
   "execution_count": null,
   "id": "949b4c5c-f17f-47ca-88c6-8e9347d72267",
   "metadata": {},
   "outputs": [],
   "source": [
    "torch.cuda.get_device_name(0)"
   ]
  },
  {
   "cell_type": "markdown",
   "id": "04038ad0-b4a5-4e7b-81d7-e16cbe80e337",
   "metadata": {
    "jp-MarkdownHeadingCollapsed": true,
    "tags": []
   },
   "source": [
    "## DatasetDict (関係ない)"
   ]
  },
  {
   "cell_type": "code",
   "execution_count": null,
   "id": "4b4e6e7a-79b3-417e-895f-b9590ad7e943",
   "metadata": {},
   "outputs": [],
   "source": [
    "train_df = pd.DataFrame({\n",
    "     \"label\" : [1, 2, 3],\n",
    "     \"text\" : [\"apple\", \"pear\", \"strawberry\"]\n",
    "})\n",
    "\n",
    "test_df = pd.DataFrame({\n",
    "     \"label\" : [2, 2, 1],\n",
    "     \"text\" : [\"banana\", \"pear\", \"apple\"]\n",
    "})"
   ]
  },
  {
   "cell_type": "code",
   "execution_count": null,
   "id": "1ceae25d-0113-4d26-9565-bb6a73ee4c76",
   "metadata": {},
   "outputs": [],
   "source": [
    "train_dataset = Dataset.from_dict(train_df)\n",
    "test_dataset = Dataset.from_dict(test_df)\n",
    "my_dataset_dict = DatasetDict({'train':train_dataset, 'test':test_dataset})"
   ]
  },
  {
   "cell_type": "code",
   "execution_count": null,
   "id": "f8dec9d4-7a5b-4d4e-b75d-99404bb7d7cf",
   "metadata": {},
   "outputs": [],
   "source": [
    "my_dataset_dict"
   ]
  },
  {
   "cell_type": "code",
   "execution_count": null,
   "id": "32cc222a-5ab8-485b-a481-eab13d73375a",
   "metadata": {},
   "outputs": [],
   "source": [
    "my_dataset_dict['train']['label']"
   ]
  },
  {
   "cell_type": "code",
   "execution_count": null,
   "id": "40e9f039-2a9a-4ba2-acef-791356b44e7b",
   "metadata": {},
   "outputs": [],
   "source": [
    "df = pd.DataFrame({\"a\": [1, 2, 3],'b':[4,5,6]})\n",
    "dataset = Dataset.from_pandas(df)"
   ]
  },
  {
   "cell_type": "code",
   "execution_count": null,
   "id": "12da70ea-f709-4754-b87e-f47017612156",
   "metadata": {},
   "outputs": [],
   "source": [
    "dataset"
   ]
  },
  {
   "cell_type": "markdown",
   "id": "7fada955-ccbd-4a3e-8b73-5aa15d2d9d46",
   "metadata": {
    "tags": []
   },
   "source": [
    "# wolfdata導入"
   ]
  },
  {
   "cell_type": "code",
   "execution_count": 2,
   "id": "d34f41e1-7a99-4c27-8f13-0a7224ef570c",
   "metadata": {},
   "outputs": [],
   "source": [
    "wolfdata = pd.read_excel('Merged_1.xlsx', index_col=1)\n",
    "wolfdata = wolfdata.drop(['Unnamed: 0_y','Unnamed: 0_x'],axis=1)\n",
    "wolfdata = Dataset.from_pandas(wolfdata)"
   ]
  },
  {
   "cell_type": "code",
   "execution_count": 5,
   "id": "74681414-e2e7-406f-823f-458ed5ba2a79",
   "metadata": {},
   "outputs": [],
   "source": [
    "wolfsentence = wolfdata['対話ログ']"
   ]
  },
  {
   "cell_type": "markdown",
   "id": "5f828392-200c-43c0-a719-a88d915bc317",
   "metadata": {
    "tags": []
   },
   "source": [
    "## 前処理"
   ]
  },
  {
   "cell_type": "markdown",
   "id": "0859e6df-5a5a-40be-8b66-fd46372a39a3",
   "metadata": {},
   "source": [
    "https://note.com/narudesu/n/na35de30a583a#JUDmI   前処理"
   ]
  },
  {
   "cell_type": "code",
   "execution_count": 3,
   "id": "5ec3f720-10aa-41da-b510-3716d719c448",
   "metadata": {},
   "outputs": [
    {
     "name": "stdout",
     "output_type": "stream",
     "text": [
      "Requirement already satisfied: demoji in /usr/local/lib/python3.9/dist-packages (1.1.0)\n",
      "\u001b[33mWARNING: Running pip as the 'root' user can result in broken permissions and conflicting behaviour with the system package manager. It is recommended to use a virtual environment instead: https://pip.pypa.io/warnings/venv\u001b[0m\u001b[33m\n",
      "\u001b[0m--- Logging error ---\n",
      "Traceback (most recent call last):\n",
      "  File \"/usr/local/lib/python3.9/dist-packages/pip/_internal/utils/logging.py\", line 177, in emit\n",
      "    self.console.print(renderable, overflow=\"ignore\", crop=False, style=style)\n",
      "  File \"/usr/local/lib/python3.9/dist-packages/pip/_vendor/rich/console.py\", line 1752, in print\n",
      "    extend(render(renderable, render_options))\n",
      "  File \"/usr/local/lib/python3.9/dist-packages/pip/_vendor/rich/console.py\", line 1390, in render\n",
      "    for render_output in iter_render:\n",
      "  File \"/usr/local/lib/python3.9/dist-packages/pip/_internal/utils/logging.py\", line 134, in __rich_console__\n",
      "    for line in lines:\n",
      "  File \"/usr/local/lib/python3.9/dist-packages/pip/_vendor/rich/segment.py\", line 245, in split_lines\n",
      "    for segment in segments:\n",
      "  File \"/usr/local/lib/python3.9/dist-packages/pip/_vendor/rich/console.py\", line 1368, in render\n",
      "    renderable = rich_cast(renderable)\n",
      "  File \"/usr/local/lib/python3.9/dist-packages/pip/_vendor/rich/protocol.py\", line 36, in rich_cast\n",
      "    renderable = cast_method()\n",
      "  File \"/usr/local/lib/python3.9/dist-packages/pip/_internal/self_outdated_check.py\", line 130, in __rich__\n",
      "    pip_cmd = get_best_invocation_for_this_pip()\n",
      "  File \"/usr/local/lib/python3.9/dist-packages/pip/_internal/utils/entrypoints.py\", line 58, in get_best_invocation_for_this_pip\n",
      "    if found_executable and os.path.samefile(\n",
      "  File \"/usr/lib/python3.9/genericpath.py\", line 101, in samefile\n",
      "    s2 = os.stat(f2)\n",
      "FileNotFoundError: [Errno 2] No such file or directory: '/usr/bin/pip'\n",
      "Call stack:\n",
      "  File \"/usr/local/bin/pip\", line 8, in <module>\n",
      "    sys.exit(main())\n",
      "  File \"/usr/local/lib/python3.9/dist-packages/pip/_internal/cli/main.py\", line 70, in main\n",
      "    return command.main(cmd_args)\n",
      "  File \"/usr/local/lib/python3.9/dist-packages/pip/_internal/cli/base_command.py\", line 101, in main\n",
      "    return self._main(args)\n",
      "  File \"/usr/local/lib/python3.9/dist-packages/pip/_internal/cli/base_command.py\", line 223, in _main\n",
      "    self.handle_pip_version_check(options)\n",
      "  File \"/usr/local/lib/python3.9/dist-packages/pip/_internal/cli/req_command.py\", line 148, in handle_pip_version_check\n",
      "    pip_self_version_check(session, options)\n",
      "  File \"/usr/local/lib/python3.9/dist-packages/pip/_internal/self_outdated_check.py\", line 237, in pip_self_version_check\n",
      "    logger.info(\"[present-rich] %s\", upgrade_prompt)\n",
      "  File \"/usr/lib/python3.9/logging/__init__.py\", line 1446, in info\n",
      "    self._log(INFO, msg, args, **kwargs)\n",
      "  File \"/usr/lib/python3.9/logging/__init__.py\", line 1589, in _log\n",
      "    self.handle(record)\n",
      "  File \"/usr/lib/python3.9/logging/__init__.py\", line 1599, in handle\n",
      "    self.callHandlers(record)\n",
      "  File \"/usr/lib/python3.9/logging/__init__.py\", line 1661, in callHandlers\n",
      "    hdlr.handle(record)\n",
      "  File \"/usr/lib/python3.9/logging/__init__.py\", line 952, in handle\n",
      "    self.emit(record)\n",
      "  File \"/usr/local/lib/python3.9/dist-packages/pip/_internal/utils/logging.py\", line 179, in emit\n",
      "    self.handleError(record)\n",
      "Message: '[present-rich] %s'\n",
      "Arguments: (UpgradePrompt(old='22.1.2', new='22.2'),)\n"
     ]
    }
   ],
   "source": [
    "!pip install demoji\n",
    "import demoji\n",
    "import re"
   ]
  },
  {
   "cell_type": "code",
   "execution_count": 6,
   "id": "cab2fed8-9076-4242-ae0d-22e292df0794",
   "metadata": {},
   "outputs": [],
   "source": [
    "for i in range(len(wolfsentence)):\n",
    "    wolfsentence[i] = wolfsentence[i].replace('\\n','').replace('\\r','')\n",
    "    wolfsentence[i] = demoji.replace(string=wolfsentence[i], repl='')\n",
    "    wolfsentence[i] = re.sub('[Σ└───┌┐│∩┘ヽ･ω･´ﾉ★▽†▼｜＿◆▼●□!\"#$%&\\'\\\\\\\\()*+,-./:;<=>?@[\\\\]^_`{|}~「」〔〕“”〈〉『』【】＆＊・（）＄＃＠。、？！｀＋￥％■]', '', wolfsentence[i])\n",
    "    wolfsentence[i] = re.sub('[0-999]*\\u3000', '', wolfsentence[i])\n",
    "    wolfsentence[i] = re.sub('[0-999]*＞', '', wolfsentence[i])\n",
    "    wolfsentence[i] = re.sub('[0-99999999999]', '', wolfsentence[i])"
   ]
  },
  {
   "cell_type": "markdown",
   "id": "e2c5e9ea-6b91-4ca4-a157-2b0c5adf2fd0",
   "metadata": {
    "tags": []
   },
   "source": [
    "## 例 SentenceTransformerでVectorizeしてCosineSimilarity計算します"
   ]
  },
  {
   "cell_type": "code",
   "execution_count": 7,
   "id": "6db65292-94b4-48ef-b5f4-0d69840ad82d",
   "metadata": {},
   "outputs": [],
   "source": [
    "from sentence_transformers import SentenceTransformer\n",
    "from sklearn.metrics.pairwise import cosine_similarity\n",
    "model = SentenceTransformer('paraphrase-multilingual-MiniLM-L12-v2')"
   ]
  },
  {
   "cell_type": "code",
   "execution_count": 8,
   "id": "9260e845-a5ec-4154-a566-d08a347c0069",
   "metadata": {},
   "outputs": [],
   "source": [
    "sentences = [\n",
    "    'こいつは黒だ！',\n",
    "    '他灰で気になったのはあんま見てないからアレですが、ペタ君は気になったですね。',         \n",
    "    'なんか、リーザの事理解出来ないから占いたいからリーザの事理解出来ないから黒いになってませんかにゃん？',\n",
    "    'ニコ兄が灰雑感落としているけど、白と黒ともとれる感じでかいてて「で、とりあえず今のとこ誰疑ってるの？」みたいなの感じたな。ちょっと狂っぽい印象。あとなぜかヤコ兄の雑感がなくて…ヤコ兄せつないなと思った。',\n",
    "    'フリさんそんなに黒いか、と言えばそう思ってないのですが、いい代案が出てこないです…。',\n",
    "    'こいつは偽物だ'\n",
    "]\n",
    "sentence_embeddings = model.encode(sentences)"
   ]
  },
  {
   "cell_type": "code",
   "execution_count": 9,
   "id": "48f8e807-635c-4c67-bb9d-09499b4781c5",
   "metadata": {},
   "outputs": [],
   "source": [
    "wolfsentence_embeddings = model.encode(wolfsentence)"
   ]
  },
  {
   "cell_type": "code",
   "execution_count": 10,
   "id": "78d920d5-b520-4357-bdf6-3cb40609cec3",
   "metadata": {},
   "outputs": [],
   "source": [
    "wolf_cos_2 = cosine_similarity(\n",
    "    [sentence_embeddings[5]],\n",
    "    wolfsentence_embeddings\n",
    ")"
   ]
  },
  {
   "cell_type": "code",
   "execution_count": 11,
   "id": "64f6761b-d197-4751-8b28-e8592e712886",
   "metadata": {},
   "outputs": [
    {
     "data": {
      "text/plain": [
       "'Σぎゃぼっナイスつっこみニコラスさんいやあ私ってホントバカですねぇ｡pqｸｽｯ'"
      ]
     },
     "execution_count": 11,
     "metadata": {},
     "output_type": "execute_result"
    }
   ],
   "source": [
    "wolfsentence[np.argmax(wolf_cos_2)]"
   ]
  },
  {
   "cell_type": "code",
   "execution_count": null,
   "id": "86ea51d7-aaeb-4738-b4aa-07074d563c21",
   "metadata": {},
   "outputs": [],
   "source": []
  },
  {
   "cell_type": "markdown",
   "id": "efab1c00-21a8-4060-bbcd-70649929e3d8",
   "metadata": {
    "tags": []
   },
   "source": [
    "# MeCabTokenizer BertJapanese"
   ]
  },
  {
   "cell_type": "code",
   "execution_count": null,
   "id": "8fa4e7bb-c83b-4c98-af88-7807561a202c",
   "metadata": {},
   "outputs": [],
   "source": [
    "!pip install fugashi\n",
    "import fugashi"
   ]
  },
  {
   "cell_type": "code",
   "execution_count": null,
   "id": "b4629ef6-0369-4d83-aff9-74486ab721fa",
   "metadata": {},
   "outputs": [],
   "source": [
    "!pip install transformers[\"ja\"]"
   ]
  },
  {
   "cell_type": "code",
   "execution_count": null,
   "id": "ecdc0377-8f0e-4b52-8f02-ff9809aa5e73",
   "metadata": {},
   "outputs": [],
   "source": [
    "from transformers import AutoModel, AutoTokenizer\n",
    "bertjapanese = AutoModel.from_pretrained(\"cl-tohoku/bert-base-japanese\")\n",
    "tokenizer = AutoTokenizer.from_pretrained(\"cl-tohoku/bert-base-japanese\")"
   ]
  },
  {
   "cell_type": "code",
   "execution_count": null,
   "id": "49a4c928-f08b-4646-a650-ffc272e20f4f",
   "metadata": {},
   "outputs": [],
   "source": [
    "line = sentences[4]\n",
    "inputs = tokenizer(line, return_tensors=\"pt\")"
   ]
  },
  {
   "cell_type": "code",
   "execution_count": null,
   "id": "9e98c0ee-7b1c-466f-820d-2cdd24bfda54",
   "metadata": {},
   "outputs": [],
   "source": [
    "print(tokenizer.decode(inputs[\"input_ids\"][0]))"
   ]
  },
  {
   "cell_type": "code",
   "execution_count": null,
   "id": "f0ab759e-e8c7-4f1c-ae6f-55b6df850962",
   "metadata": {},
   "outputs": [],
   "source": []
  },
  {
   "cell_type": "code",
   "execution_count": null,
   "id": "86c19549-afec-41a2-8e18-994ef706414d",
   "metadata": {},
   "outputs": [],
   "source": []
  }
 ],
 "metadata": {
  "kernelspec": {
   "display_name": "Python 3 (ipykernel)",
   "language": "python",
   "name": "python3"
  },
  "language_info": {
   "codemirror_mode": {
    "name": "ipython",
    "version": 3
   },
   "file_extension": ".py",
   "mimetype": "text/x-python",
   "name": "python",
   "nbconvert_exporter": "python",
   "pygments_lexer": "ipython3",
   "version": "3.9.13"
  },
  "toc-autonumbering": true
 },
 "nbformat": 4,
 "nbformat_minor": 5
}
