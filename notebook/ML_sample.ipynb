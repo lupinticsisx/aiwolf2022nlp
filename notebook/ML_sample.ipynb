{
 "cells": [
  {
   "cell_type": "markdown",
   "metadata": {},
   "source": [
    "## 機械学習サンプル"
   ]
  },
  {
   "cell_type": "markdown",
   "metadata": {},
   "source": [
    "* GAT2017のログを100戦ぶんだけ読み込む(ほんとは10万戦あります)  \n",
    "* 各試合の1-5日目の投票前及び2-6日目の朝の時点までのログを抽出(1試合あたり10セット)  \n",
    "* Tensor5460を使って、5460パターンにサンプルエージェントが使っている特徴量を付与  \n",
    "* 人狼と狂人の真の位置を使って0/1フラグ付与(1/5460だけ1)  \n",
    "* 全部縦に積んで(100x10x5460行)ロジスティック回帰    "
   ]
  },
  {
   "cell_type": "code",
   "execution_count": 11,
   "metadata": {
    "collapsed": true
   },
   "outputs": [],
   "source": [
    "from __future__ import print_function, division \n",
    "\n",
    "import os \n",
    "import sys\n",
    "\n",
    "import numpy as np\n",
    "import pandas as pd\n",
    "import sklearn.linear_model\n",
    "import math"
   ]
  },
  {
   "cell_type": "code",
   "execution_count": 2,
   "metadata": {
    "collapsed": false
   },
   "outputs": [],
   "source": [
    "# add sys.path for aiwolfpy\n",
    "sys.path.append(\"../AIWolfPy\")"
   ]
  },
  {
   "cell_type": "code",
   "execution_count": 3,
   "metadata": {
    "collapsed": true
   },
   "outputs": [],
   "source": [
    "import aiwolfpy\n",
    "import aiwolfpy.cash"
   ]
  },
  {
   "cell_type": "code",
   "execution_count": 4,
   "metadata": {
    "collapsed": false
   },
   "outputs": [],
   "source": [
    "predictor = aiwolfpy.cash.Predictor_15()"
   ]
  },
  {
   "cell_type": "code",
   "execution_count": 5,
   "metadata": {
    "collapsed": false
   },
   "outputs": [],
   "source": [
    "def game_data_filter(df, day, phase='daily_initialize', agent=0):\n",
    "    \n",
    "    \n",
    "    y = np.zeros(5460)\n",
    "    # werewolves, possessed\n",
    "    werewolves = []\n",
    "    for i in range(1, 16):\n",
    "        role = df[\"text\"][i - 1].split()[2]\n",
    "        if role == \"WEREWOLF\":\n",
    "            werewolves.append(i)\n",
    "        elif role == \"POSSESSED\":\n",
    "            possessed = i\n",
    "            \n",
    "    for i in range(5460):\n",
    "        if predictor.case15.case5460_df[\"agent_\"+str(possessed)][i] == 2:\n",
    "            if predictor.case15.case5460_df[\"agent_\"+str(werewolves[0])][i] == 1:\n",
    "                if predictor.case15.case5460_df[\"agent_\"+str(werewolves[1])][i] == 1:\n",
    "                    if predictor.case15.case5460_df[\"agent_\"+str(werewolves[2])][i] == 1:\n",
    "                        y[i] = 1\n",
    "    \n",
    "    # role\n",
    "    role = \"VILLAGER\"\n",
    "    if agent > 0:\n",
    "        role = df[\"text\"][agent - 1].split()[2]\n",
    "    \n",
    "    # filter by role\n",
    "    if role in [\"VILLAGER\", \"POSSESSED\"]:\n",
    "        df = df[df[\"type\"].isin([\"talk\", \"vote\", \"execute\", \"dead\"])]\n",
    "    elif role == \"MEDIUM\":\n",
    "        df = df[df[\"type\"].isin([\"talk\", \"vote\", \"execute\", \"dead\", \"identify\"])]\n",
    "    elif role == \"SEER\":\n",
    "        df = df[df[\"type\"].isin([\"talk\", \"vote\", \"execute\", \"dead\", \"divine\"])]\n",
    "    elif role == \"BODYGUARD\":\n",
    "        df = df[df[\"type\"].isin([\"talk\", \"vote\", \"execute\", \"dead\", \"guard\"])]\n",
    "    elif role == \"WEREWOLF\":\n",
    "        df = df[df[\"type\"].isin([\"talk\", \"vote\", \"execute\", \"dead\", \"whisper\", \"attack\", \"attack_vote\"])]\n",
    "    \n",
    "    \n",
    "    # agent\n",
    "    if agent == 0:\n",
    "        agent = 1\n",
    "    \n",
    "    # filter by time\n",
    "    if phase == 'daily_initialize':\n",
    "        df = df[df[\"day\"] < day]\n",
    "    else:\n",
    "        df = df[(df[\"day\"] < day) | ((df[\"day\"] == day) & (df[\"type\"] == 'talk'))]\n",
    "    \n",
    "    predictor.initialize({\"agent\":agent, \"roleMap\":{str(agent):role}}, {})\n",
    "    predictor.update_features(df.reset_index())\n",
    "    predictor.update_df()\n",
    "    \n",
    "    return predictor.df_pred, y"
   ]
  },
  {
   "cell_type": "code",
   "execution_count": 6,
   "metadata": {
    "collapsed": true
   },
   "outputs": [],
   "source": [
    "log_path = \"../log/gat2017log15/000/000.log\""
   ]
  },
  {
   "cell_type": "code",
   "execution_count": 7,
   "metadata": {
    "collapsed": true
   },
   "outputs": [],
   "source": [
    "x, y = game_data_filter(aiwolfpy.read_log(log_path), day=3, phase='vote')"
   ]
  },
  {
   "cell_type": "code",
   "execution_count": 9,
   "metadata": {
    "collapsed": false
   },
   "outputs": [],
   "source": [
    "# build data for 100 games\n",
    "# takes several minutes\n",
    "x_1000 = np.zeros((5460000, 60))\n",
    "y_1000 = np.zeros(5460000)\n",
    "\n",
    "ind = 0\n",
    "for i in range(100):\n",
    "    log_path = \"../log/gat2017log15/000/\" + \"{0:03d}\".format(i) + \".log\"\n",
    "    for d in range(5):\n",
    "        x, y = game_data_filter(aiwolfpy.read_log(log_path), day=d, phase='vote')\n",
    "        x_1000[(ind*5460):((ind+1)*5460), :] = x\n",
    "        y_1000[(ind*5460):((ind+1)*5460)] = y\n",
    "        ind += 1\n",
    "        x, y = game_data_filter(aiwolfpy.read_log(log_path), day=d+1, phase='daily_initialize')\n",
    "        x_1000[(ind*5460):((ind+1)*5460), :] = x\n",
    "        y_1000[(ind*5460):((ind+1)*5460)] = y\n",
    "        ind += 1"
   ]
  },
  {
   "cell_type": "code",
   "execution_count": 12,
   "metadata": {
    "collapsed": false
   },
   "outputs": [
    {
     "data": {
      "text/plain": [
       "LogisticRegression(C=1.0, class_weight=None, dual=False, fit_intercept=True,\n",
       "          intercept_scaling=1, max_iter=100, multi_class='ovr', n_jobs=1,\n",
       "          penalty='l2', random_state=None, solver='liblinear', tol=0.0001,\n",
       "          verbose=0, warm_start=False)"
      ]
     },
     "execution_count": 12,
     "metadata": {},
     "output_type": "execute_result"
    }
   ],
   "source": [
    "model = sklearn.linear_model.LogisticRegression()\n",
    "model.fit(x_1000, y_1000)"
   ]
  },
  {
   "cell_type": "code",
   "execution_count": 14,
   "metadata": {
    "collapsed": true
   },
   "outputs": [],
   "source": [
    "np.set_printoptions(suppress=True)"
   ]
  },
  {
   "cell_type": "code",
   "execution_count": 15,
   "metadata": {
    "collapsed": false
   },
   "outputs": [
    {
     "data": {
      "text/plain": [
       "array([[-0.05142977,  0.00683707, -4.21711505,  0.4640681 , -3.13746134,\n",
       "         0.07285381, -0.58640055,  0.70195596, -3.11076185,  0.88402891,\n",
       "         0.0773789 ,  0.50954873, -2.80776988,  0.3146642 , -1.5538348 ,\n",
       "         0.12254767,  0.05153261,  0.27717954, -0.2773668 ,  0.14004431,\n",
       "        -0.63454665,  0.23758233, -2.5502184 ,  0.16825324, -2.36900027,\n",
       "         0.19680779,  0.00372291, -2.57349345, -0.73518057,  0.07310151,\n",
       "        -0.1628885 , -0.04290204,  0.53040538, -0.39452875, -0.18142595,\n",
       "        -0.0251955 ,  0.07128287,  0.28275352, -0.20261612, -0.140135  ,\n",
       "         0.        ,  0.        ,  0.        ,  0.        ,  0.        ,\n",
       "        -0.02784234,  0.32486888, -0.53507881, -0.49403682, -0.87516125,\n",
       "        -0.22883512, -4.20619298, -0.01235312,  1.09991243,  0.9656281 ,\n",
       "        -0.3238915 ,  0.02788588,  2.77381813, -1.50430048, -0.08328738]])"
      ]
     },
     "execution_count": 15,
     "metadata": {},
     "output_type": "execute_result"
    }
   ],
   "source": [
    "model.coef_"
   ]
  },
  {
   "cell_type": "code",
   "execution_count": 13,
   "metadata": {
    "collapsed": false
   },
   "outputs": [
    {
     "data": {
      "text/plain": [
       "Index(['VOTE_HH', 'DIV_HM_HH', 'DIV_WW_HH', 'IDT_HM_HH', 'IDT_WW_HH',\n",
       "       'VOTE_HW', 'DIV_HM_HW', 'DIV_WW_HW', 'IDT_HM_HW', 'IDT_WW_HW',\n",
       "       'VOTE_HP', 'DIV_HM_HP', 'DIV_WW_HP', 'IDT_HM_HP', 'IDT_WW_HP',\n",
       "       'VOTE_WH', 'DIV_HM_WH', 'DIV_WW_WH', 'IDT_HM_WH', 'IDT_WW_WH',\n",
       "       'VOTE_WW', 'DIV_HM_WW', 'DIV_WW_WW', 'IDT_HM_WW', 'IDT_WW_WW',\n",
       "       'VOTE_WP', 'DIV_HM_WP', 'DIV_WW_WP', 'IDT_HM_WP', 'IDT_WW_WP',\n",
       "       'VOTE_PH', 'DIV_HM_PH', 'DIV_WW_PH', 'IDT_HM_PH', 'IDT_WW_PH',\n",
       "       'VOTE_PW', 'DIV_HM_PW', 'DIV_WW_PW', 'IDT_HM_PW', 'IDT_WW_PW',\n",
       "       'VOTE_PP', 'DIV_HM_PP', 'DIV_WW_PP', 'IDT_HM_PP', 'IDT_WW_PP',\n",
       "       'executed_H', 'attacked_H', 'CO_SEER_H', 'CO_MEDIUM_H',\n",
       "       'CO_BODYGUARD_H', 'executed_W', 'attacked_W', 'CO_SEER_W',\n",
       "       'CO_MEDIUM_W', 'CO_BODYGUARD_W', 'executed_P', 'attacked_P',\n",
       "       'CO_SEER_P', 'CO_MEDIUM_P', 'CO_BODYGUARD_P'],\n",
       "      dtype='object')"
      ]
     },
     "execution_count": 13,
     "metadata": {},
     "output_type": "execute_result"
    }
   ],
   "source": [
    "x.columns"
   ]
  },
  {
   "cell_type": "code",
   "execution_count": null,
   "metadata": {
    "collapsed": true
   },
   "outputs": [],
   "source": []
  },
  {
   "cell_type": "code",
   "execution_count": null,
   "metadata": {
    "collapsed": true
   },
   "outputs": [],
   "source": []
  },
  {
   "cell_type": "code",
   "execution_count": null,
   "metadata": {
    "collapsed": true
   },
   "outputs": [],
   "source": []
  },
  {
   "cell_type": "code",
   "execution_count": null,
   "metadata": {
    "collapsed": true
   },
   "outputs": [],
   "source": []
  }
 ],
 "metadata": {
  "anaconda-cloud": {},
  "kernelspec": {
   "display_name": "Python3",
   "language": "python",
   "name": "py35"
  },
  "language_info": {
   "codemirror_mode": {
    "name": "ipython",
    "version": 3
   },
   "file_extension": ".py",
   "mimetype": "text/x-python",
   "name": "python",
   "nbconvert_exporter": "python",
   "pygments_lexer": "ipython3",
   "version": "3.5.2"
  }
 },
 "nbformat": 4,
 "nbformat_minor": 1
}
